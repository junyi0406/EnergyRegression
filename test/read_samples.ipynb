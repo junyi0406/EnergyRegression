{
 "cells": [
  {
   "cell_type": "code",
   "execution_count": 1,
   "metadata": {},
   "outputs": [],
   "source": [
    "import uproot\n",
    "import pandas as pd\n",
    "import awkward as ak\n",
    "file_dir = \"/home/JYChen/EnergyRegression/samples/DoubleElectron_FlatPT-1to500_13p6TeV/\"\n",
    "IdealPath = f\"{file_dir}DoubleElectron_ECALIdealIC_PostEE_124X_30032023.root\"\n",
    "RealPath = f\"{file_dir}DoubleElectron_ECALRealIC_PostEE_124X_02042023.root\"\n",
    "treename = \"\""
   ]
  },
  {
   "cell_type": "code",
   "execution_count": 2,
   "metadata": {},
   "outputs": [],
   "source": [
    "tree = uproot.open(IdealPath)[\"egRegTree\"]"
   ]
  },
  {
   "cell_type": "code",
   "execution_count": 3,
   "metadata": {},
   "outputs": [
    {
     "name": "stdout",
     "output_type": "stream",
     "text": [
      "['nrVert', 'rho', 'nrPUInt', 'nrPUIntTrue', 'evt', 'sc', 'ssFull', 'ssFrac', 'ele', 'pho', 'eleSSFull', 'phoSSFull', 'mc', 'clus1', 'clus2', 'clus3']\n"
     ]
    }
   ],
   "source": [
    "print(tree.keys())"
   ]
  },
  {
   "cell_type": "code",
   "execution_count": 6,
   "metadata": {},
   "outputs": [],
   "source": [
    "df = tree.arrays(['rho', 'sc', 'ssFull', 'ele', 'mc'], library=\"pd\",)"
   ]
  },
  {
   "cell_type": "code",
   "execution_count": 7,
   "metadata": {},
   "outputs": [
    {
     "data": {
      "text/html": [
       "<div>\n",
       "<style scoped>\n",
       "    .dataframe tbody tr th:only-of-type {\n",
       "        vertical-align: middle;\n",
       "    }\n",
       "\n",
       "    .dataframe tbody tr th {\n",
       "        vertical-align: top;\n",
       "    }\n",
       "\n",
       "    .dataframe thead th {\n",
       "        text-align: right;\n",
       "    }\n",
       "</style>\n",
       "<table border=\"1\" class=\"dataframe\">\n",
       "  <thead>\n",
       "    <tr style=\"text-align: right;\">\n",
       "      <th></th>\n",
       "      <th>rho</th>\n",
       "      <th>sc</th>\n",
       "      <th>ssFull</th>\n",
       "      <th>ele</th>\n",
       "      <th>mc</th>\n",
       "    </tr>\n",
       "  </thead>\n",
       "  <tbody>\n",
       "    <tr>\n",
       "      <th>0</th>\n",
       "      <td>4.195293</td>\n",
       "      <td>{'rawEnergy': 812.9088745117188, 'rawESEnergy'...</td>\n",
       "      <td>{'e3x3': 779.7754516601562, 'e5x5': 815.754089...</td>\n",
       "      <td>{'et': 249.94017028808594, 'energy': 864.30664...</td>\n",
       "      <td>{'energy': 869.5516357421875, 'pt': 251.492156...</td>\n",
       "    </tr>\n",
       "    <tr>\n",
       "      <th>1</th>\n",
       "      <td>4.195293</td>\n",
       "      <td>{'rawEnergy': 851.2734985351562, 'rawESEnergy'...</td>\n",
       "      <td>{'e3x3': 830.8706665039062, 'e5x5': 854.211791...</td>\n",
       "      <td>{'et': 252.51243591308594, 'energy': 873.01422...</td>\n",
       "      <td>{'energy': 869.5516357421875, 'pt': 251.492156...</td>\n",
       "    </tr>\n",
       "    <tr>\n",
       "      <th>2</th>\n",
       "      <td>17.619236</td>\n",
       "      <td>{'rawEnergy': 256.80474853515625, 'rawESEnergy...</td>\n",
       "      <td>{'e3x3': 217.0644073486328, 'e5x5': 244.071716...</td>\n",
       "      <td>{'et': 158.70974731445312, 'energy': 290.47375...</td>\n",
       "      <td>{'energy': 294.678955078125, 'pt': 160.9854278...</td>\n",
       "    </tr>\n",
       "    <tr>\n",
       "      <th>3</th>\n",
       "      <td>17.619236</td>\n",
       "      <td>{'rawEnergy': 282.0928649902344, 'rawESEnergy'...</td>\n",
       "      <td>{'e3x3': 246.0587921142578, 'e5x5': 275.997314...</td>\n",
       "      <td>{'et': 160.4888153076172, 'energy': 293.774658...</td>\n",
       "      <td>{'energy': 294.678955078125, 'pt': 160.9854278...</td>\n",
       "    </tr>\n",
       "    <tr>\n",
       "      <th>4</th>\n",
       "      <td>29.529261</td>\n",
       "      <td>{'rawEnergy': 37.29194641113281, 'rawESEnergy'...</td>\n",
       "      <td>{'e3x3': 19.886667251586914, 'e5x5': 24.351324...</td>\n",
       "      <td>{'et': 23.511146545410156, 'energy': 45.295555...</td>\n",
       "      <td>{'energy': 48.09366989135742, 'pt': 24.9610919...</td>\n",
       "    </tr>\n",
       "    <tr>\n",
       "      <th>...</th>\n",
       "      <td>...</td>\n",
       "      <td>...</td>\n",
       "      <td>...</td>\n",
       "      <td>...</td>\n",
       "      <td>...</td>\n",
       "    </tr>\n",
       "    <tr>\n",
       "      <th>34919165</th>\n",
       "      <td>31.622850</td>\n",
       "      <td>{'rawEnergy': 368.8412170410156, 'rawESEnergy'...</td>\n",
       "      <td>{'e3x3': 353.5511779785156, 'e5x5': 368.024230...</td>\n",
       "      <td>{'et': 271.7292785644531, 'energy': 375.274291...</td>\n",
       "      <td>{'energy': 379.8775634765625, 'pt': 275.075286...</td>\n",
       "    </tr>\n",
       "    <tr>\n",
       "      <th>34919166</th>\n",
       "      <td>14.455096</td>\n",
       "      <td>{'rawEnergy': 2068.220703125, 'rawESEnergy': 1...</td>\n",
       "      <td>{'e3x3': 2020.287841796875, 'e5x5': 2084.18090...</td>\n",
       "      <td>{'et': 402.0955810546875, 'energy': 2141.16137...</td>\n",
       "      <td>{'energy': 2152.004638671875, 'pt': 404.184661...</td>\n",
       "    </tr>\n",
       "    <tr>\n",
       "      <th>34919167</th>\n",
       "      <td>14.455096</td>\n",
       "      <td>{'rawEnergy': 2096.3505859375, 'rawESEnergy': ...</td>\n",
       "      <td>{'e3x3': 2058.515380859375, 'e5x5': 2111.11621...</td>\n",
       "      <td>{'et': 404.94915771484375, 'energy': 2154.5639...</td>\n",
       "      <td>{'energy': 2152.004638671875, 'pt': 404.184661...</td>\n",
       "    </tr>\n",
       "    <tr>\n",
       "      <th>34919168</th>\n",
       "      <td>44.513596</td>\n",
       "      <td>{'rawEnergy': 38.77729797363281, 'rawESEnergy'...</td>\n",
       "      <td>{'e3x3': 38.37193298339844, 'e5x5': 40.2717208...</td>\n",
       "      <td>{'et': 37.71287155151367, 'energy': 40.5661125...</td>\n",
       "      <td>{'energy': 40.21603012084961, 'pt': 37.3829269...</td>\n",
       "    </tr>\n",
       "    <tr>\n",
       "      <th>34919169</th>\n",
       "      <td>44.513596</td>\n",
       "      <td>{'rawEnergy': 37.86396408081055, 'rawESEnergy'...</td>\n",
       "      <td>{'e3x3': 38.36998748779297, 'e5x5': 39.7333641...</td>\n",
       "      <td>{'et': 37.35087966918945, 'energy': 40.1799736...</td>\n",
       "      <td>{'energy': 40.21603012084961, 'pt': 37.3829269...</td>\n",
       "    </tr>\n",
       "  </tbody>\n",
       "</table>\n",
       "<p>34919170 rows × 5 columns</p>\n",
       "</div>"
      ],
      "text/plain": [
       "                rho                                                 sc  \\\n",
       "0          4.195293  {'rawEnergy': 812.9088745117188, 'rawESEnergy'...   \n",
       "1          4.195293  {'rawEnergy': 851.2734985351562, 'rawESEnergy'...   \n",
       "2         17.619236  {'rawEnergy': 256.80474853515625, 'rawESEnergy...   \n",
       "3         17.619236  {'rawEnergy': 282.0928649902344, 'rawESEnergy'...   \n",
       "4         29.529261  {'rawEnergy': 37.29194641113281, 'rawESEnergy'...   \n",
       "...             ...                                                ...   \n",
       "34919165  31.622850  {'rawEnergy': 368.8412170410156, 'rawESEnergy'...   \n",
       "34919166  14.455096  {'rawEnergy': 2068.220703125, 'rawESEnergy': 1...   \n",
       "34919167  14.455096  {'rawEnergy': 2096.3505859375, 'rawESEnergy': ...   \n",
       "34919168  44.513596  {'rawEnergy': 38.77729797363281, 'rawESEnergy'...   \n",
       "34919169  44.513596  {'rawEnergy': 37.86396408081055, 'rawESEnergy'...   \n",
       "\n",
       "                                                     ssFull  \\\n",
       "0         {'e3x3': 779.7754516601562, 'e5x5': 815.754089...   \n",
       "1         {'e3x3': 830.8706665039062, 'e5x5': 854.211791...   \n",
       "2         {'e3x3': 217.0644073486328, 'e5x5': 244.071716...   \n",
       "3         {'e3x3': 246.0587921142578, 'e5x5': 275.997314...   \n",
       "4         {'e3x3': 19.886667251586914, 'e5x5': 24.351324...   \n",
       "...                                                     ...   \n",
       "34919165  {'e3x3': 353.5511779785156, 'e5x5': 368.024230...   \n",
       "34919166  {'e3x3': 2020.287841796875, 'e5x5': 2084.18090...   \n",
       "34919167  {'e3x3': 2058.515380859375, 'e5x5': 2111.11621...   \n",
       "34919168  {'e3x3': 38.37193298339844, 'e5x5': 40.2717208...   \n",
       "34919169  {'e3x3': 38.36998748779297, 'e5x5': 39.7333641...   \n",
       "\n",
       "                                                        ele  \\\n",
       "0         {'et': 249.94017028808594, 'energy': 864.30664...   \n",
       "1         {'et': 252.51243591308594, 'energy': 873.01422...   \n",
       "2         {'et': 158.70974731445312, 'energy': 290.47375...   \n",
       "3         {'et': 160.4888153076172, 'energy': 293.774658...   \n",
       "4         {'et': 23.511146545410156, 'energy': 45.295555...   \n",
       "...                                                     ...   \n",
       "34919165  {'et': 271.7292785644531, 'energy': 375.274291...   \n",
       "34919166  {'et': 402.0955810546875, 'energy': 2141.16137...   \n",
       "34919167  {'et': 404.94915771484375, 'energy': 2154.5639...   \n",
       "34919168  {'et': 37.71287155151367, 'energy': 40.5661125...   \n",
       "34919169  {'et': 37.35087966918945, 'energy': 40.1799736...   \n",
       "\n",
       "                                                         mc  \n",
       "0         {'energy': 869.5516357421875, 'pt': 251.492156...  \n",
       "1         {'energy': 869.5516357421875, 'pt': 251.492156...  \n",
       "2         {'energy': 294.678955078125, 'pt': 160.9854278...  \n",
       "3         {'energy': 294.678955078125, 'pt': 160.9854278...  \n",
       "4         {'energy': 48.09366989135742, 'pt': 24.9610919...  \n",
       "...                                                     ...  \n",
       "34919165  {'energy': 379.8775634765625, 'pt': 275.075286...  \n",
       "34919166  {'energy': 2152.004638671875, 'pt': 404.184661...  \n",
       "34919167  {'energy': 2152.004638671875, 'pt': 404.184661...  \n",
       "34919168  {'energy': 40.21603012084961, 'pt': 37.3829269...  \n",
       "34919169  {'energy': 40.21603012084961, 'pt': 37.3829269...  \n",
       "\n",
       "[34919170 rows x 5 columns]"
      ]
     },
     "execution_count": 7,
     "metadata": {},
     "output_type": "execute_result"
    }
   ],
   "source": [
    "df"
   ]
  },
  {
   "cell_type": "code",
   "execution_count": 12,
   "metadata": {},
   "outputs": [],
   "source": [
    "def trans_to_df(ttree, axis=1, debug=False):\n",
    "    branches =  ttree.keys()\n",
    "    if debug:\n",
    "        df = ttree.arrays(branches, library=\"pd\", entry_stop=1000)\n",
    "    else:\n",
    "        df = ttree.arrays(branches, library=\"pd\",)\n",
    "    dfs = []\n",
    "    for branch in branches:\n",
    "        obj = eval(f\"ak.to_dataframe(df.{branch})\")\n",
    "        obj = obj.rename(columns={oldname: f\"{branch}_{oldname}\" for oldname in obj.columns})\n",
    "        dfs.append(obj)\n",
    "    return pd.concat(dfs, axis=axis)"
   ]
  },
  {
   "cell_type": "code",
   "execution_count": 13,
   "metadata": {},
   "outputs": [],
   "source": [
    "df = trans_to_df(tree, axis=1, debug=True)"
   ]
  },
  {
   "cell_type": "code",
   "execution_count": 27,
   "metadata": {},
   "outputs": [],
   "source": [
    "df = tree.arrays(tree.keys(), library=\"pd\", entry_stop=1000)"
   ]
  },
  {
   "cell_type": "code",
   "execution_count": 39,
   "metadata": {},
   "outputs": [
    {
     "data": {
      "text/plain": [
       "pandas.core.series.Series"
      ]
     },
     "execution_count": 39,
     "metadata": {},
     "output_type": "execute_result"
    }
   ],
   "source": []
  },
  {
   "cell_type": "code",
   "execution_count": 20,
   "metadata": {},
   "outputs": [],
   "source": [
    "train_dataset = df.sample(frac=0.8, random_state=0)"
   ]
  },
  {
   "cell_type": "code",
   "execution_count": 22,
   "metadata": {},
   "outputs": [
    {
     "data": {
      "text/plain": [
       "Index([993, 859, 298, 553, 672, 971,  27, 231, 306, 706,\n",
       "       ...\n",
       "       507, 228, 673, 595, 445, 117, 464,  25, 110, 149],\n",
       "      dtype='int64', name='entry', length=800)"
      ]
     },
     "execution_count": 22,
     "metadata": {},
     "output_type": "execute_result"
    }
   ],
   "source": [
    "train_dataset.index"
   ]
  },
  {
   "cell_type": "code",
   "execution_count": 4,
   "metadata": {},
   "outputs": [],
   "source": [
    "import json\n",
    "with open(\"/home/JYChen/EnergyRegression/config/Run3Electron_PostEE.json\") as file:\n",
    "    conf = json.load(file)"
   ]
  },
  {
   "cell_type": "code",
   "execution_count": 7,
   "metadata": {},
   "outputs": [
    {
     "data": {
      "text/plain": [
       "'Ideadf.mc_energy/Ideadf.sc_rawEnergy'"
      ]
     },
     "execution_count": 7,
     "metadata": {},
     "output_type": "execute_result"
    }
   ],
   "source": [
    "def setup_dataset(df, vars):\n",
    "    operator = [\"+\", \"-\", \"*\", \"/\"]\n",
    "    "
   ]
  },
  {
   "cell_type": "code",
   "execution_count": 2,
   "metadata": {},
   "outputs": [],
   "source": [
    "import pathlib\n",
    "import shutil\n",
    "logdir = pathlib.Path(\"log/tfTrainer\")/\"tensorboard_logs\"\n",
    "shutil.rmtree(logdir, ignore_errors=True)"
   ]
  }
 ],
 "metadata": {
  "kernelspec": {
   "display_name": "TFENV",
   "language": "python",
   "name": "python3"
  },
  "language_info": {
   "codemirror_mode": {
    "name": "ipython",
    "version": 3
   },
   "file_extension": ".py",
   "mimetype": "text/x-python",
   "name": "python",
   "nbconvert_exporter": "python",
   "pygments_lexer": "ipython3",
   "version": "3.11.8"
  }
 },
 "nbformat": 4,
 "nbformat_minor": 2
}
