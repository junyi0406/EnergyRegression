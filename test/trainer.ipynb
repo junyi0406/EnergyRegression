{
 "cells": [
  {
   "cell_type": "code",
   "execution_count": 1,
   "metadata": {},
   "outputs": [
    {
     "name": "stderr",
     "output_type": "stream",
     "text": [
      "2024-04-14 22:01:11.505717: I tensorflow/core/util/port.cc:113] oneDNN custom operations are on. You may see slightly different numerical results due to floating-point round-off errors from different computation orders. To turn them off, set the environment variable `TF_ENABLE_ONEDNN_OPTS=0`.\n",
      "2024-04-14 22:01:12.572029: E external/local_xla/xla/stream_executor/cuda/cuda_dnn.cc:9261] Unable to register cuDNN factory: Attempting to register factory for plugin cuDNN when one has already been registered\n",
      "2024-04-14 22:01:12.572107: E external/local_xla/xla/stream_executor/cuda/cuda_fft.cc:607] Unable to register cuFFT factory: Attempting to register factory for plugin cuFFT when one has already been registered\n",
      "2024-04-14 22:01:12.748928: E external/local_xla/xla/stream_executor/cuda/cuda_blas.cc:1515] Unable to register cuBLAS factory: Attempting to register factory for plugin cuBLAS when one has already been registered\n",
      "2024-04-14 22:01:13.046554: I tensorflow/core/platform/cpu_feature_guard.cc:182] This TensorFlow binary is optimized to use available CPU instructions in performance-critical operations.\n",
      "To enable the following instructions: SSE4.1 SSE4.2 AVX AVX2 AVX512F AVX512_VNNI FMA, in other operations, rebuild TensorFlow with the appropriate compiler flags.\n"
     ]
    }
   ],
   "source": [
    "import sys\n",
    "sys.path.append(\"..\")\n",
    "from package import TreeOperator\n",
    "\n",
    "file_dir = \"/home/JYChen/EnergyRegression/samples/DoubleElectron_FlatPT-1to500_13p6TeV/\"\n",
    "IdealPath = f\"{file_dir}DoubleElectron_ECALIdealIC_PostEE_124X_30032023.root\"\n",
    "RealPath = f\"{file_dir}DoubleElectron_ECALRealIC_PostEE_124X_02042023.root\"\n",
    "treename = \"egRegTree\"\n",
    "\n",
    "reader = TreeOperator()\n",
    "reader.set_names(inpath=IdealPath, treename=treename)\n",
    "Idealdf = reader.get_tree(fmt=\"pd\", debug = True)\n",
    "reader.set_names(inpath=RealPath, treename=treename)\n",
    "Realdf = reader.get_tree(fmt=\"pd\", debug = True)"
   ]
  },
  {
   "cell_type": "code",
   "execution_count": 2,
   "metadata": {},
   "outputs": [],
   "source": [
    "import json\n",
    "import pathlib\n",
    "import shutil\n",
    "logdir = pathlib.Path(\"/home/JYChen/EnergyRegression/log/tfTrainer\")/\"tensorboard_logs\"\n",
    "shutil.rmtree(logdir, ignore_errors=True)\n",
    "with open(\"/home/JYChen/EnergyRegression/config/Run3Electron_PostEE.json\") as file:\n",
    "    conf = json.load(file)"
   ]
  },
  {
   "cell_type": "code",
   "execution_count": 34,
   "metadata": {},
   "outputs": [],
   "source": [
    "# targets\n",
    "target1 = \"{dfname}.mc_energy/{dfname}.sc_rawEnergy\"\n",
    "target2 = \"{dfname}.mc_energy/(({dfname}.sc_rawEnergy+{dfname}.sc_rawESEnergy)*{dfname}.regIdealMean)\"\n",
    "target3 = \"({dfname}.mc_energy * ({dfname}.ele_trkPModeErr*{dfname}.ele_trkPModeErr + ({dfname}.sc_rawEnergy+{dfname}.sc_rawESEnergy)*({dfname}.sc_rawEnergy+{dfname}.sc_rawESEnergy)*{dfname}.regRealSigma*{dfname}.regRealSigma)  / ( ({dfname}.sc_rawEnergy+{dfname}.sc_rawESEnergy)*regIdealMean*{dfname}.ele_trkPModeErr*{dfname}.ele_trkPModeErr + {dfname}.ele_trkPMode*({dfname}.sc_rawEnergy+{dfname}.sc_rawESEnergy)*({dfname}.sc_rawEnergy+{dfname}.sc_rawESEnergy)*{dfname}.regRealSigma*{dfname}.regRealSigma ))\""
   ]
  },
  {
   "cell_type": "code",
   "execution_count": null,
   "metadata": {},
   "outputs": [],
   "source": [
    "# create target columns \n",
    "Idealdf[\"target1\"] = eval(target1.format(dfname=\"Idealdf\"))"
   ]
  },
  {
   "cell_type": "code",
   "execution_count": 3,
   "metadata": {},
   "outputs": [],
   "source": [
    "def setup_dataset(df, vars, target):\n",
    "    import pandas as pd\n",
    "    dataset = pd.DataFrame()\n",
    "    table = {}\n",
    "    dataset[\"isEB\"] = df.sc_isEB\n",
    "    for idx, var in enumerate(vars):\n",
    "        dataset[f\"var{idx}\"] = eval(var.format(dfname = \"df\"))\n",
    "        table[f\"var{idx}\"] = var.format(dfname = \"\").replace(\".\", \"\")\n",
    "    dataset[\"target\"] = eval(target.format(dfname = \"df\"))\n",
    "    dataset.pop(\"isEB\")\n",
    "    return (table, dataset)"
   ]
  },
  {
   "cell_type": "code",
   "execution_count": 4,
   "metadata": {},
   "outputs": [],
   "source": [
    "var_eb, dataset_eb = setup_dataset(Idealdf, conf[\"var_eb\"], conf[\"target1\"])\n",
    "var_ee, dataset_ee = setup_dataset(Idealdf, conf[\"var_ee\"], conf[\"target1\"])"
   ]
  },
  {
   "cell_type": "code",
   "execution_count": 5,
   "metadata": {},
   "outputs": [],
   "source": [
    "import time\n",
    "train_dataset = dataset_eb.sample(frac=0.8, random_state=int(time.time()))\n",
    "test_dataset = dataset_eb.drop(train_dataset.index)"
   ]
  },
  {
   "cell_type": "code",
   "execution_count": 81,
   "metadata": {},
   "outputs": [],
   "source": [
    "import numpy as np\n",
    "import tensorflow as tf\n",
    "from tensorflow import keras\n",
    "from tensorflow.keras import layers\n",
    "\n",
    "def build_and_compile_model(norm):\n",
    "  model = keras.Sequential([\n",
    "      norm,\n",
    "      layers.Dense(1, activation='relu'),\n",
    "      # layers.Dense(16, activation='relu'),\n",
    "      layers.Dense(1)\n",
    "  ])\n",
    "  # mse = tf.keras.losses.MeanSquaredError()  \n",
    "  model.compile(loss='mean_absolute_error',\n",
    "                optimizer=tf.keras.optimizers.Adam(0.0001))\n",
    "  return model\n"
   ]
  },
  {
   "cell_type": "code",
   "execution_count": 7,
   "metadata": {},
   "outputs": [],
   "source": [
    "# N_VALIDATION = int(1e3)\n",
    "N_TRAIN = train_dataset.shape[0] * 0.5\n",
    "# BUFFER_SIZE = int(1e4)\n",
    "BATCH_SIZE = 50\n",
    "STEPS_PER_EPOCH = N_TRAIN//BATCH_SIZE\n",
    "FEATURES = 32"
   ]
  },
  {
   "cell_type": "code",
   "execution_count": 50,
   "metadata": {},
   "outputs": [],
   "source": [
    "lr_schedule = tf.keras.optimizers.schedules.InverseTimeDecay(\n",
    "  0.001,\n",
    "  decay_steps=STEPS_PER_EPOCH*100,\n",
    "  decay_rate=1,\n",
    "  staircase=False)\n",
    "\n",
    "def get_optimizer():\n",
    "  return tf.keras.optimizers.Adam(lr_schedule)"
   ]
  },
  {
   "cell_type": "code",
   "execution_count": 40,
   "metadata": {},
   "outputs": [],
   "source": [
    "def get_callbacks(name):\n",
    "    import tensorflow_docs as tfdocs\n",
    "    import tensorflow_docs.modeling as tfdocsmd\n",
    "    return [\n",
    "        tfdocsmd.EpochDots(),\n",
    "        tf.keras.callbacks.EarlyStopping(monitor='loss', patience=200),\n",
    "        tf.keras.callbacks.TensorBoard(logdir/name),\n",
    "    ]"
   ]
  },
  {
   "cell_type": "code",
   "execution_count": 8,
   "metadata": {},
   "outputs": [
    {
     "name": "stderr",
     "output_type": "stream",
     "text": [
      "2024-04-14 22:02:42.417133: E external/local_xla/xla/stream_executor/cuda/cuda_driver.cc:274] failed call to cuInit: CUDA_ERROR_SYSTEM_DRIVER_MISMATCH: system has unsupported display driver / cuda driver combination\n",
      "2024-04-14 22:02:42.417214: I external/local_xla/xla/stream_executor/cuda/cuda_diagnostics.cc:129] retrieving CUDA diagnostic information for host: chip02.cms.phy.ncu.edu.tw\n",
      "2024-04-14 22:02:42.417229: I external/local_xla/xla/stream_executor/cuda/cuda_diagnostics.cc:136] hostname: chip02.cms.phy.ncu.edu.tw\n",
      "2024-04-14 22:02:42.417452: I external/local_xla/xla/stream_executor/cuda/cuda_diagnostics.cc:159] libcuda reported version is: 550.54.15\n",
      "2024-04-14 22:02:42.417508: I external/local_xla/xla/stream_executor/cuda/cuda_diagnostics.cc:163] kernel reported version is: 510.47.3\n",
      "2024-04-14 22:02:42.417520: E external/local_xla/xla/stream_executor/cuda/cuda_diagnostics.cc:244] kernel version 510.47.3 does not match DSO version 550.54.15 -- cannot find working devices in this configuration\n"
     ]
    }
   ],
   "source": [
    "# setup the dataset and the model\n",
    "train_features = train_dataset.copy()\n",
    "test_features = test_dataset.copy()\n",
    "\n",
    "train_labels = train_features.pop('target')\n",
    "test_labels = test_features.pop('target')\n",
    "\n",
    "# normalizer = tf.keras.layers.Normalization(axis=-1, )\n",
    "# normalizer = tf.keras.layers.experimental.preprocessing.Normalization(axis=None)\n",
    "normalizer = layers.Normalization(input_shape=[FEATURES,], axis=None)\n",
    "normalizer.adapt(np.array(train_features))"
   ]
  },
  {
   "cell_type": "code",
   "execution_count": 32,
   "metadata": {},
   "outputs": [
    {
     "data": {
      "text/plain": [
       "<tf.Tensor: shape=(8000, 32), dtype=float32, numpy=\n",
       "array([[ 1.5366364e+05,  1.1230631e-02,  1.7661532e-02, ...,\n",
       "         2.3825015e-01, -5.9446682e+01,  7.9380394e+01],\n",
       "       [ 3.2249777e+04,  1.1250802e-02,  1.8343484e-02, ...,\n",
       "         6.6426301e-01,  5.3375013e-02,  6.0668232e+01],\n",
       "       [ 1.7929755e+06,  1.1309475e-02,  1.7721934e-02, ...,\n",
       "         2.3825015e-01,  5.3375013e-02,  4.5317512e+00],\n",
       "       ...,\n",
       "       [ 5.7433941e+04,  1.1227966e-02,  1.7566567e-02, ...,\n",
       "         6.6426301e-01,  1.4928390e+01,  1.0769138e+01],\n",
       "       [ 3.7186366e+05,  1.1246847e-02,  1.7905336e-02, ...,\n",
       "         6.6426301e-01,  2.2365896e+01,  8.5617783e+01],\n",
       "       [ 1.2011371e+06,  1.1309082e-02,  1.7681159e-02, ...,\n",
       "         2.3825015e-01,  5.3375013e-02,  4.5317512e+00]], dtype=float32)>"
      ]
     },
     "execution_count": 32,
     "metadata": {},
     "output_type": "execute_result"
    }
   ],
   "source": [
    "layer = keras.layers.Normalization(axis=-1, invert=True)\n",
    "layer.adapt(train_features)\n",
    "layer(train_features)"
   ]
  },
  {
   "cell_type": "code",
   "execution_count": 59,
   "metadata": {},
   "outputs": [],
   "source": [
    "def compile_and_fit(model, name, optimizer=None, max_epochs=100):\n",
    "    if optimizer is None:\n",
    "        optimizer = get_optimizer()\n",
    "    # model.compile(optimizer=optimizer,\n",
    "    #                 loss=tf.keras.losses.BinaryCrossentropy(from_logits=True),\n",
    "    #                 metrics=[\n",
    "    #                 tf.keras.metrics.BinaryCrossentropy(\n",
    "    #                     from_logits=True, name='binary_crossentropy'),\n",
    "    #                 'accuracy'])\n",
    "    model.compile(loss='mean_absolute_error',\n",
    "                    # optimizer=optimizer)\n",
    "                    optimizer=tf.keras.optimizers.Adam(0.001))\n",
    "    model.summary()\n",
    "\n",
    "    history = model.fit(\n",
    "        train_features,\n",
    "        train_labels,\n",
    "        steps_per_epoch = STEPS_PER_EPOCH,\n",
    "        epochs=max_epochs,\n",
    "        validation_split=0.5,\n",
    "        callbacks=get_callbacks(name),\n",
    "        verbose=0)\n",
    "    return history"
   ]
  },
  {
   "cell_type": "code",
   "execution_count": 82,
   "metadata": {},
   "outputs": [
    {
     "name": "stdout",
     "output_type": "stream",
     "text": [
      "Model: \"sequential_24\"\n",
      "_________________________________________________________________\n",
      " Layer (type)                Output Shape              Param #   \n",
      "=================================================================\n",
      " normalization_2 (Normaliza  (None, 32)                65        \n",
      " tion)                                                           \n",
      "                                                                 \n",
      " dense_44 (Dense)            (None, 1)                 33        \n",
      "                                                                 \n",
      " dense_45 (Dense)            (None, 1)                 2         \n",
      "                                                                 \n",
      "=================================================================\n",
      "Total params: 100 (404.00 Byte)\n",
      "Trainable params: 35 (140.00 Byte)\n",
      "Non-trainable params: 65 (264.00 Byte)\n",
      "_________________________________________________________________\n"
     ]
    }
   ],
   "source": [
    "dnn_model = build_and_compile_model(layer)\n",
    "dnn_model.summary()\n",
    "# model.fit(train_features, train_labels, validation_split=0.5, verbose=1, epochs=10)\n"
   ]
  },
  {
   "cell_type": "code",
   "execution_count": 84,
   "metadata": {},
   "outputs": [
    {
     "name": "stdout",
     "output_type": "stream",
     "text": [
      "Epoch 1/100\n",
      "100/100 [==============================] - 2s 11ms/step - loss: inf - val_loss: inf\n",
      "Epoch 2/100\n",
      "100/100 [==============================] - 1s 6ms/step - loss: inf - val_loss: inf\n",
      "Epoch 3/100\n",
      "100/100 [==============================] - 1s 6ms/step - loss: inf - val_loss: inf\n",
      "Epoch 4/100\n",
      "100/100 [==============================] - 1s 8ms/step - loss: inf - val_loss: inf\n",
      "Epoch 5/100\n",
      "100/100 [==============================] - 1s 8ms/step - loss: inf - val_loss: inf\n",
      "Epoch 6/100\n",
      "100/100 [==============================] - 1s 8ms/step - loss: inf - val_loss: inf\n",
      "Epoch 7/100\n",
      "100/100 [==============================] - 1s 8ms/step - loss: inf - val_loss: inf\n",
      "Epoch 8/100\n",
      "100/100 [==============================] - 1s 6ms/step - loss: inf - val_loss: inf\n",
      "Epoch 9/100\n",
      "100/100 [==============================] - 1s 9ms/step - loss: inf - val_loss: inf\n",
      "Epoch 10/100\n",
      "100/100 [==============================] - 1s 6ms/step - loss: inf - val_loss: inf\n",
      "Epoch 11/100\n",
      "100/100 [==============================] - 1s 6ms/step - loss: inf - val_loss: inf\n",
      "Epoch 12/100\n",
      "100/100 [==============================] - 1s 6ms/step - loss: inf - val_loss: inf\n",
      "Epoch 13/100\n",
      "100/100 [==============================] - 1s 7ms/step - loss: inf - val_loss: inf\n",
      "Epoch 14/100\n",
      "100/100 [==============================] - 1s 8ms/step - loss: inf - val_loss: inf\n",
      "Epoch 15/100\n",
      "100/100 [==============================] - 1s 6ms/step - loss: inf - val_loss: inf\n",
      "Epoch 16/100\n",
      "100/100 [==============================] - 1s 6ms/step - loss: inf - val_loss: inf\n",
      "Epoch 17/100\n",
      "100/100 [==============================] - 1s 6ms/step - loss: inf - val_loss: inf\n",
      "Epoch 18/100\n",
      "100/100 [==============================] - 1s 6ms/step - loss: inf - val_loss: inf\n",
      "Epoch 19/100\n",
      "100/100 [==============================] - 1s 7ms/step - loss: inf - val_loss: inf\n",
      "Epoch 20/100\n",
      "100/100 [==============================] - 1s 7ms/step - loss: inf - val_loss: inf\n",
      "Epoch 21/100\n",
      "100/100 [==============================] - 1s 10ms/step - loss: inf - val_loss: inf\n",
      "Epoch 22/100\n",
      "100/100 [==============================] - 1s 7ms/step - loss: inf - val_loss: inf\n",
      "Epoch 23/100\n",
      "100/100 [==============================] - 1s 7ms/step - loss: inf - val_loss: inf\n",
      "Epoch 24/100\n",
      "100/100 [==============================] - 1s 7ms/step - loss: inf - val_loss: inf\n",
      "Epoch 25/100\n",
      "100/100 [==============================] - 1s 6ms/step - loss: inf - val_loss: inf\n",
      "Epoch 26/100\n",
      "100/100 [==============================] - 1s 7ms/step - loss: inf - val_loss: inf\n",
      "Epoch 27/100\n",
      "100/100 [==============================] - 1s 7ms/step - loss: inf - val_loss: inf\n",
      "Epoch 28/100\n",
      "100/100 [==============================] - 1s 7ms/step - loss: inf - val_loss: inf\n",
      "Epoch 29/100\n",
      "100/100 [==============================] - 1s 6ms/step - loss: inf - val_loss: inf\n",
      "Epoch 30/100\n",
      "100/100 [==============================] - 1s 7ms/step - loss: inf - val_loss: inf\n",
      "Epoch 31/100\n",
      "100/100 [==============================] - 1s 6ms/step - loss: inf - val_loss: inf\n",
      "Epoch 32/100\n",
      "100/100 [==============================] - 1s 9ms/step - loss: inf - val_loss: inf\n",
      "Epoch 33/100\n",
      "100/100 [==============================] - 1s 6ms/step - loss: inf - val_loss: inf\n",
      "Epoch 34/100\n",
      "100/100 [==============================] - 1s 6ms/step - loss: inf - val_loss: inf\n",
      "Epoch 35/100\n",
      "100/100 [==============================] - 1s 6ms/step - loss: inf - val_loss: inf\n",
      "Epoch 36/100\n",
      "100/100 [==============================] - 1s 6ms/step - loss: inf - val_loss: inf\n",
      "Epoch 37/100\n",
      "100/100 [==============================] - 1s 7ms/step - loss: inf - val_loss: inf\n",
      "Epoch 38/100\n",
      "100/100 [==============================] - 1s 6ms/step - loss: inf - val_loss: inf\n",
      "Epoch 39/100\n",
      "100/100 [==============================] - 1s 7ms/step - loss: inf - val_loss: inf\n",
      "Epoch 40/100\n",
      "100/100 [==============================] - 1s 7ms/step - loss: inf - val_loss: inf\n",
      "Epoch 41/100\n",
      "100/100 [==============================] - 1s 7ms/step - loss: inf - val_loss: inf\n",
      "Epoch 42/100\n",
      "100/100 [==============================] - 1s 7ms/step - loss: inf - val_loss: inf\n",
      "Epoch 43/100\n",
      "100/100 [==============================] - 1s 6ms/step - loss: inf - val_loss: inf\n",
      "Epoch 44/100\n",
      "100/100 [==============================] - 1s 7ms/step - loss: inf - val_loss: inf\n",
      "Epoch 45/100\n",
      "100/100 [==============================] - 1s 7ms/step - loss: inf - val_loss: inf\n",
      "Epoch 46/100\n",
      "100/100 [==============================] - 1s 8ms/step - loss: inf - val_loss: inf\n",
      "Epoch 47/100\n",
      "100/100 [==============================] - 1s 7ms/step - loss: inf - val_loss: inf\n",
      "Epoch 48/100\n",
      "100/100 [==============================] - 1s 8ms/step - loss: inf - val_loss: inf\n",
      "Epoch 49/100\n",
      "100/100 [==============================] - 1s 7ms/step - loss: inf - val_loss: inf\n",
      "Epoch 50/100\n",
      "100/100 [==============================] - 1s 6ms/step - loss: inf - val_loss: inf\n",
      "Epoch 51/100\n",
      "100/100 [==============================] - 1s 6ms/step - loss: inf - val_loss: inf\n",
      "Epoch 52/100\n",
      "100/100 [==============================] - 1s 8ms/step - loss: inf - val_loss: inf\n",
      "Epoch 53/100\n",
      "100/100 [==============================] - 1s 7ms/step - loss: inf - val_loss: inf\n",
      "Epoch 54/100\n",
      "100/100 [==============================] - 1s 7ms/step - loss: inf - val_loss: inf\n",
      "Epoch 55/100\n",
      "100/100 [==============================] - 1s 6ms/step - loss: inf - val_loss: inf\n",
      "Epoch 56/100\n",
      "100/100 [==============================] - 1s 7ms/step - loss: inf - val_loss: inf\n",
      "Epoch 57/100\n",
      "100/100 [==============================] - 1s 6ms/step - loss: inf - val_loss: inf\n",
      "Epoch 58/100\n",
      "100/100 [==============================] - 1s 7ms/step - loss: inf - val_loss: inf\n",
      "Epoch 59/100\n",
      "100/100 [==============================] - 1s 7ms/step - loss: inf - val_loss: inf\n",
      "Epoch 60/100\n",
      "100/100 [==============================] - 1s 6ms/step - loss: inf - val_loss: inf\n",
      "Epoch 61/100\n",
      "100/100 [==============================] - 1s 6ms/step - loss: inf - val_loss: inf\n",
      "Epoch 62/100\n",
      "100/100 [==============================] - 1s 6ms/step - loss: inf - val_loss: inf\n",
      "Epoch 63/100\n",
      "100/100 [==============================] - 1s 6ms/step - loss: inf - val_loss: inf\n",
      "Epoch 64/100\n",
      "100/100 [==============================] - 1s 7ms/step - loss: inf - val_loss: inf\n",
      "Epoch 65/100\n",
      "100/100 [==============================] - 1s 6ms/step - loss: inf - val_loss: inf\n",
      "Epoch 66/100\n",
      "100/100 [==============================] - 1s 6ms/step - loss: inf - val_loss: inf\n",
      "Epoch 67/100\n",
      "100/100 [==============================] - 1s 6ms/step - loss: inf - val_loss: inf\n",
      "Epoch 68/100\n",
      "100/100 [==============================] - 1s 6ms/step - loss: inf - val_loss: inf\n",
      "Epoch 69/100\n",
      "100/100 [==============================] - 1s 7ms/step - loss: inf - val_loss: inf\n",
      "Epoch 70/100\n",
      "100/100 [==============================] - 1s 7ms/step - loss: inf - val_loss: inf\n",
      "Epoch 71/100\n",
      "100/100 [==============================] - 1s 8ms/step - loss: inf - val_loss: inf\n",
      "Epoch 72/100\n",
      "100/100 [==============================] - 1s 6ms/step - loss: inf - val_loss: inf\n",
      "Epoch 73/100\n",
      "100/100 [==============================] - 1s 6ms/step - loss: inf - val_loss: inf\n",
      "Epoch 74/100\n",
      "100/100 [==============================] - 1s 6ms/step - loss: inf - val_loss: inf\n",
      "Epoch 75/100\n",
      "100/100 [==============================] - 1s 6ms/step - loss: inf - val_loss: inf\n",
      "Epoch 76/100\n",
      "100/100 [==============================] - 1s 7ms/step - loss: inf - val_loss: inf\n",
      "Epoch 77/100\n",
      "100/100 [==============================] - 1s 8ms/step - loss: inf - val_loss: inf\n",
      "Epoch 78/100\n",
      "100/100 [==============================] - 1s 10ms/step - loss: inf - val_loss: inf\n",
      "Epoch 79/100\n",
      "100/100 [==============================] - 1s 7ms/step - loss: inf - val_loss: inf\n",
      "Epoch 80/100\n",
      "100/100 [==============================] - 1s 8ms/step - loss: inf - val_loss: inf\n",
      "Epoch 81/100\n",
      "100/100 [==============================] - 1s 7ms/step - loss: inf - val_loss: inf\n",
      "Epoch 82/100\n",
      "100/100 [==============================] - 1s 7ms/step - loss: inf - val_loss: inf\n",
      "Epoch 83/100\n",
      "100/100 [==============================] - 1s 6ms/step - loss: inf - val_loss: inf\n",
      "Epoch 84/100\n",
      "100/100 [==============================] - 1s 6ms/step - loss: inf - val_loss: inf\n",
      "Epoch 85/100\n",
      "100/100 [==============================] - 1s 6ms/step - loss: inf - val_loss: inf\n",
      "Epoch 86/100\n",
      "100/100 [==============================] - 1s 7ms/step - loss: inf - val_loss: inf\n",
      "Epoch 87/100\n",
      "100/100 [==============================] - 1s 7ms/step - loss: inf - val_loss: inf\n",
      "Epoch 88/100\n",
      "100/100 [==============================] - 1s 9ms/step - loss: inf - val_loss: inf\n",
      "Epoch 89/100\n",
      "100/100 [==============================] - 1s 7ms/step - loss: inf - val_loss: inf\n",
      "Epoch 90/100\n",
      "100/100 [==============================] - 1s 7ms/step - loss: inf - val_loss: inf\n",
      "Epoch 91/100\n",
      "100/100 [==============================] - 1s 6ms/step - loss: inf - val_loss: inf\n",
      "Epoch 92/100\n",
      "100/100 [==============================] - 1s 6ms/step - loss: inf - val_loss: inf\n",
      "Epoch 93/100\n",
      "100/100 [==============================] - 1s 7ms/step - loss: inf - val_loss: inf\n",
      "Epoch 94/100\n",
      "100/100 [==============================] - 1s 7ms/step - loss: inf - val_loss: inf\n",
      "Epoch 95/100\n",
      "100/100 [==============================] - 1s 7ms/step - loss: inf - val_loss: inf\n",
      "Epoch 96/100\n",
      "100/100 [==============================] - 1s 6ms/step - loss: inf - val_loss: inf\n",
      "Epoch 97/100\n",
      "100/100 [==============================] - 1s 7ms/step - loss: inf - val_loss: inf\n",
      "Epoch 98/100\n",
      "100/100 [==============================] - 1s 8ms/step - loss: inf - val_loss: inf\n",
      "Epoch 99/100\n",
      "100/100 [==============================] - 1s 7ms/step - loss: inf - val_loss: inf\n",
      "Epoch 100/100\n",
      "100/100 [==============================] - 1s 7ms/step - loss: inf - val_loss: inf\n"
     ]
    }
   ],
   "source": [
    "history = dnn_model.fit(\n",
    "    layer(train_features),\n",
    "    train_labels,\n",
    "    validation_split=0.6,\n",
    "    verbose=1, epochs=100)"
   ]
  },
  {
   "cell_type": "code",
   "execution_count": 64,
   "metadata": {},
   "outputs": [],
   "source": [
    "test_results['dnn_model'] = dnn_model.evaluate(test_features, test_labels, verbose=0)"
   ]
  },
  {
   "cell_type": "code",
   "execution_count": 68,
   "metadata": {},
   "outputs": [
    {
     "data": {
      "text/plain": [
       "entry\n",
       "115     1.024233\n",
       "194     1.386863\n",
       "4523    1.041889\n",
       "1827    0.996152\n",
       "1845    1.026985\n",
       "          ...   \n",
       "5940    1.031675\n",
       "3063    1.049644\n",
       "6686    1.032314\n",
       "8112    1.048748\n",
       "9074    1.028643\n",
       "Name: target, Length: 8000, dtype: float64"
      ]
     },
     "execution_count": 68,
     "metadata": {},
     "output_type": "execute_result"
    }
   ],
   "source": [
    "train_labels"
   ]
  },
  {
   "cell_type": "code",
   "execution_count": 101,
   "metadata": {},
   "outputs": [
    {
     "data": {
      "text/plain": [
       "Text(0.5, 0, 'Epochs [Log Scale]')"
      ]
     },
     "execution_count": 101,
     "metadata": {},
     "output_type": "execute_result"
    },
    {
     "data": {
      "image/png": "[encoded data removed]",
      "text/plain": [
       "<Figure size 640x480 with 1 Axes>"
      ]
     },
     "metadata": {},
     "output_type": "display_data"
    }
   ],
   "source": [
    "import tensorflow_docs.plots as tfdocsplt\n",
    "import matplotlib.pyplot as plt\n",
    "plotter = tfdocsplt.HistoryPlotter(metric = 'loss', smoothing_std=10)\n",
    "plotter.plot(size_histories)\n",
    "plt.ylim([0.5, 0.7])\n",
    "plotter.plot(size_histories)\n",
    "a = plt.xscale('log')\n",
    "plt.xlim([5, max(plt.xlim())])\n",
    "plt.ylim([0.5, 0.7])\n",
    "plt.xlabel(\"Epochs [Log Scale]\")"
   ]
  },
  {
   "cell_type": "code",
   "execution_count": 25,
   "metadata": {},
   "outputs": [],
   "source": [
    "def plot_loss(history):\n",
    "    import matplotlib.pyplot as plt\n",
    "    plt.plot(history.history['loss'], label='loss')\n",
    "    plt.plot(history.history['val_loss'], label='val_loss')\n",
    "    plt.ylim([0, 10])\n",
    "    plt.xlabel('Epoch')\n",
    "    plt.ylabel('Error [MPG]')\n",
    "    plt.legend()\n",
    "    plt.grid(True)"
   ]
  },
  {
   "cell_type": "code",
   "execution_count": 48,
   "metadata": {},
   "outputs": [
    {
     "data": {
      "image/png": "[encoded data removed]",
      "text/plain": [
       "<Figure size 640x480 with 1 Axes>"
      ]
     },
     "metadata": {},
     "output_type": "display_data"
    }
   ],
   "source": [
    "plot_loss(history)"
   ]
  }
 ],
 "metadata": {
  "kernelspec": {
   "display_name": "TFENV",
   "language": "python",
   "name": "python3"
  },
  "language_info": {
   "codemirror_mode": {
    "name": "ipython",
    "version": 3
   },
   "file_extension": ".py",
   "mimetype": "text/x-python",
   "name": "python",
   "nbconvert_exporter": "python",
   "pygments_lexer": "ipython3",
   "version": "3.11.8"
  }
 },
 "nbformat": 4,
 "nbformat_minor": 2
}
